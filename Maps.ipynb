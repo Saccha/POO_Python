{
  "nbformat": 4,
  "nbformat_minor": 0,
  "metadata": {
    "colab": {
      "name": "Untitled7.ipynb",
      "provenance": [],
      "authorship_tag": "ABX9TyMyJ5CJRfZZGpB6PjvGc742",
      "include_colab_link": true
    },
    "kernelspec": {
      "name": "python3",
      "display_name": "Python 3"
    }
  },
  "cells": [
    {
      "cell_type": "markdown",
      "metadata": {
        "id": "view-in-github",
        "colab_type": "text"
      },
      "source": [
        "<a href=\"https://colab.research.google.com/github/Saccha/POO_Python/blob/main/Maps.ipynb\" target=\"_parent\"><img src=\"https://colab.research.google.com/assets/colab-badge.svg\" alt=\"Open In Colab\"/></a>"
      ]
    },
    {
      "cell_type": "code",
      "metadata": {
        "colab": {
          "base_uri": "https://localhost:8080/"
        },
        "id": "RYKM91sGbxG1",
        "outputId": "07f33e40-a7ac-402c-c406-676e91e34350"
      },
      "source": [
        "'''\n",
        "Mapas -> Conhecidos em Python como Dicionários\n",
        "\n",
        "Dicionários em Python são representados por chaves {}\n",
        "'''\n",
        "\n",
        "'''\n",
        "receita = {'jan': 100, 'fev': 250, 'mar': 400}\n",
        "print(receita)\n",
        "#Interar sobre dicionários\n",
        "for chave in receita:\n",
        "  print(chave)\n",
        "\n",
        "for chave in receita:\n",
        "  print(receita[chave])\n",
        "\n",
        "for chave in receita:\n",
        "  print(f'{chave} : {receita[chave]}')\n",
        "'''\n",
        "\n",
        "'''\n",
        "receita = {'jan': 100, 'fev': 250, 'mar': 400}\n",
        "print(receita)\n",
        "print(receita.keys())\n",
        "for chave in receita.keys():\n",
        "  print(receita[chave])\n",
        "'''\n",
        "\n",
        "'''\n",
        "receita = {'jan': 100, 'fev': 250, 'mar': 400}\n",
        "print(receita)\n",
        "#Acessando os valores\n",
        "print(receita.values())\n",
        "for valor in receita.values():\n",
        "  print(valor)\n",
        "'''\n",
        "'''\n",
        "receita = {'jan': 100, 'fev': 250, 'mar': 400}\n",
        "print(receita)\n",
        "# Desempacotamento de dicionários\n",
        "print(receita.itens())\n",
        "for chave, valor in receita.itens():\n",
        "  print(f'chave = {chave} e valores = {valor}')\n",
        "'''\n",
        "\n",
        "receita = {'jan': 100, 'fev': 250, 'mar': 400}\n",
        "#Soma* , Valor Máximo* , Valor Mínimo* , Tamanho\n",
        "# * Se os valores forem todos inteiros ou reais\n",
        "\n",
        "print(sum(receita.values()))\n",
        "print(max(receita.values()))\n",
        "print(min(receita.values()))\n",
        "print(len(receita.values()))\n",
        "\n"
      ],
      "execution_count": 11,
      "outputs": [
        {
          "output_type": "stream",
          "text": [
            "750\n",
            "400\n",
            "100\n",
            "3\n"
          ],
          "name": "stdout"
        }
      ]
    }
  ]
}