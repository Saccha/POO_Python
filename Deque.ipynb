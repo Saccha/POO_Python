{
  "nbformat": 4,
  "nbformat_minor": 0,
  "metadata": {
    "colab": {
      "name": "Untitled13.ipynb",
      "provenance": [],
      "authorship_tag": "ABX9TyMaJW4eMrx9PvLPCIk7xlO/",
      "include_colab_link": true
    },
    "kernelspec": {
      "name": "python3",
      "display_name": "Python 3"
    }
  },
  "cells": [
    {
      "cell_type": "markdown",
      "metadata": {
        "id": "view-in-github",
        "colab_type": "text"
      },
      "source": [
        "<a href=\"https://colab.research.google.com/github/Saccha/POO_Python/blob/main/Deque.ipynb\" target=\"_parent\"><img src=\"https://colab.research.google.com/assets/colab-badge.svg\" alt=\"Open In Colab\"/></a>"
      ]
    },
    {
      "cell_type": "code",
      "metadata": {
        "colab": {
          "base_uri": "https://localhost:8080/"
        },
        "id": "kAZXyyTuH5_U",
        "outputId": "03b87c4e-2b13-4891-e191-96af60f421a7"
      },
      "source": [
        "'''\r\n",
        "Módulo Collections - Deque\r\n",
        "\r\n",
        "Podemos Dizer que o Deque é uma lista de alta performance.\r\n",
        "'''\r\n",
        "\r\n",
        "#Importa\r\n",
        "\r\n",
        "from collections import deque\r\n",
        "#Criando Deques\r\n",
        "deq = deque('geek')\r\n",
        "print(deq)\r\n",
        "\r\n",
        "#Adicionando elementos no deque\r\n",
        "deq.append('y') #Adiciona no final\r\n",
        "print(deq)\r\n",
        "\r\n",
        "deq.appendleft('k') #Adiciona no começo\r\n",
        "print(deq)\r\n",
        "\r\n",
        "#Remover elementos\r\n",
        "print(deq.pop()) #Remove e retorna o último elemento\r\n",
        "print(deq)\r\n",
        "print(deq.popleft()) #Remove e retorna o primeiro elemento\r\n",
        "print(deq)\r\n",
        "\r\n",
        "\r\n"
      ],
      "execution_count": 7,
      "outputs": [
        {
          "output_type": "stream",
          "text": [
            "deque(['g', 'e', 'e', 'k'])\n",
            "deque(['g', 'e', 'e', 'k', 'y'])\n",
            "deque(['k', 'g', 'e', 'e', 'k', 'y'])\n",
            "y\n",
            "deque(['k', 'g', 'e', 'e', 'k'])\n",
            "k\n",
            "deque(['g', 'e', 'e', 'k'])\n"
          ],
          "name": "stdout"
        }
      ]
    }
  ]
}