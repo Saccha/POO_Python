{
  "nbformat": 4,
  "nbformat_minor": 0,
  "metadata": {
    "colab": {
      "name": "Untitled9.ipynb",
      "provenance": [],
      "authorship_tag": "ABX9TyPYvrI4/5CZDrJai5Ds+UWy",
      "include_colab_link": true
    },
    "kernelspec": {
      "name": "python3",
      "display_name": "Python 3"
    }
  },
  "cells": [
    {
      "cell_type": "markdown",
      "metadata": {
        "id": "view-in-github",
        "colab_type": "text"
      },
      "source": [
        "<a href=\"https://colab.research.google.com/github/Saccha/POO_Python/blob/main/counter.ipynb\" target=\"_parent\"><img src=\"https://colab.research.google.com/assets/colab-badge.svg\" alt=\"Open In Colab\"/></a>"
      ]
    },
    {
      "cell_type": "code",
      "metadata": {
        "colab": {
          "base_uri": "https://localhost:8080/"
        },
        "id": "fs0BjLtz1U8M",
        "outputId": "da1d68b6-bad9-4a86-8bd2-11ceecaff9fc"
      },
      "source": [
        "'''\r\n",
        "Módulo Collections - Counter\r\n",
        "\r\n",
        "Collections -> High-performance Container Datetypes\r\n",
        "\r\n",
        "Counter -> Recebe um interável como parâmetro e cria um objeto do tipo Collections Counter que é \r\n",
        "parecido com um dicionário, contendo com chave o elemento da lista passada como parâmetro e como valor a \r\n",
        "quantidade de ocorrências desse elemento\r\n",
        "'''\r\n",
        "'''\r\n",
        "#Utilizando o Counter\r\n",
        "\r\n",
        "from collections import Counter\r\n",
        "\r\n",
        "#Podemos utilizar qualuqer iterável, aqui temos uma lista\r\n",
        "lista = {1,1,1,1,11,1,2,2,2,2,3,3,4,4,5,56,6,55,66,6,4,5}\r\n",
        "\r\n",
        "#Utilizando o Counter\r\n",
        "res = Counter(lista)\r\n",
        "print(type(res))\r\n",
        "print(res)\r\n",
        "\r\n",
        "#Counter ({1: 1,1: 1,11: 1,2: 2,2: 2,3: 3,4: 4,5: 56,6: 55,66: 6,4: 5})\r\n",
        "#Veja que, para cada elemento da lista, o Counter criou uma chave e colocou como valor a quantidade de \r\n",
        "#ocorrências\r\n",
        "'''\r\n",
        "\r\n",
        "'''\r\n",
        "from collections import Counter\r\n",
        "print(Counter('Geek University'))\r\n",
        "#Counter({'e': 3, 'i': 2, 'G': 1, 'k': 1, ' ': 1, 'U': 1, 'n': 1, 'v': 1, 'r': 1, 's': 1, 't': 1, 'y': 1})\r\n",
        "#Numero de ocorrências a letra 'e' teve 3 ocorrências\r\n",
        "\r\n",
        "'''\r\n",
        "'''\r\n",
        "from collections import Counter\r\n",
        "\r\n",
        "texto = '''As pessoas felizes lembram o passado com gratidão, alegram-se com o \r\n",
        "presente e encaram o futuro sem medo.'''\r\n",
        "\r\n",
        "palavras = texto.split()\r\n",
        "#print(palavras)\r\n",
        "res = Counter(palavras)\r\n",
        "print(res)\r\n",
        "#Encontrando as cinco palavras com mais frequência no texto\r\n",
        "print(res.most_common(5))\r\n",
        "'''\r\n"
      ],
      "execution_count": 4,
      "outputs": [
        {
          "output_type": "stream",
          "text": [
            "Counter({'o': 3, 'com': 2, 'As': 1, 'pessoas': 1, 'felizes': 1, 'lembram': 1, 'passado': 1, 'gratidão,': 1, 'alegram-se': 1, 'presente': 1, 'e': 1, 'encaram': 1, 'futuro': 1, 'sem': 1, 'medo.': 1})\n",
            "[('o', 3), ('com', 2), ('As', 1), ('pessoas', 1), ('felizes', 1)]\n"
          ],
          "name": "stdout"
        }
      ]
    }
  ]
}