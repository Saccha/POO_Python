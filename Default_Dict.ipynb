{
  "nbformat": 4,
  "nbformat_minor": 0,
  "metadata": {
    "colab": {
      "name": "Untitled10.ipynb",
      "provenance": [],
      "authorship_tag": "ABX9TyOBh+lbrA3OJCpgFmmaisss",
      "include_colab_link": true
    },
    "kernelspec": {
      "name": "python3",
      "display_name": "Python 3"
    }
  },
  "cells": [
    {
      "cell_type": "markdown",
      "metadata": {
        "id": "view-in-github",
        "colab_type": "text"
      },
      "source": [
        "<a href=\"https://colab.research.google.com/github/Saccha/POO_Python/blob/main/Default_Dict.ipynb\" target=\"_parent\"><img src=\"https://colab.research.google.com/assets/colab-badge.svg\" alt=\"Open In Colab\"/></a>"
      ]
    },
    {
      "cell_type": "code",
      "metadata": {
        "colab": {
          "base_uri": "https://localhost:8080/"
        },
        "id": "-c4AfGxQ7VaY",
        "outputId": "754c80c1-5a04-4a28-f9fb-0fd1bfc96559"
      },
      "source": [
        "'''\r\n",
        "Módulo Collections - Default Dict\r\n",
        "'''\r\n",
        "\r\n",
        "'''\r\n",
        "#Recap Dicionários\r\n",
        "dicionario = {'curso': 'Programação em Python: Essencial'}\r\n",
        "print(dicionario)\r\n",
        "print(dicionario['curso'])\r\n",
        "print(dicionario['outro']) #KeyError\r\n",
        "'''\r\n",
        "\r\n",
        "'''\r\n",
        "Default Dict -> Ao criar um dicionário utilizando-o, nós informamos um valor default,podendo\r\n",
        "utilizar um lambda para isso.Este valor utilizado sempre que não houver um valor definido. Caso tentemos\r\n",
        "acessar uma chave que não existe, essa chave será criada e o valor default será atribuido\r\n",
        "\r\n",
        "OBS: Lambdas são funções sem nome, que podem ou não receber parâmetros de entrada e retornar valores\r\n",
        "'''\r\n",
        "\r\n",
        "#Fazendo import\r\n",
        "from collections import defaultdict\r\n",
        "dicionario = defaultdict(lambda: 0)\r\n",
        "dicionario['curso'] = 'Programação em Python: Essencial'\r\n",
        "print(dicionario)\r\n",
        "print(dicionario['outro']) #KeyError no dicionário comum, mas não aqui\r\n",
        "print(dicionario)"
      ],
      "execution_count": 8,
      "outputs": [
        {
          "output_type": "stream",
          "text": [
            "defaultdict(<function <lambda> at 0x7fdcea976320>, {'curso': 'Programação em Python: Essencial'})\n",
            "0\n",
            "defaultdict(<function <lambda> at 0x7fdcea976320>, {'curso': 'Programação em Python: Essencial', 'outro': 0})\n"
          ],
          "name": "stdout"
        }
      ]
    }
  ]
}