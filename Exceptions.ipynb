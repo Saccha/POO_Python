{
  "nbformat": 4,
  "nbformat_minor": 0,
  "metadata": {
    "colab": {
      "name": "Untitled3.ipynb",
      "provenance": [],
      "authorship_tag": "ABX9TyNIgEOSuXoYkk2VKbrw0n0e",
      "include_colab_link": true
    },
    "kernelspec": {
      "name": "python3",
      "display_name": "Python 3"
    }
  },
  "cells": [
    {
      "cell_type": "markdown",
      "metadata": {
        "id": "view-in-github",
        "colab_type": "text"
      },
      "source": [
        "<a href=\"https://colab.research.google.com/github/Saccha/POO_Python/blob/main/Exceptions.ipynb\" target=\"_parent\"><img src=\"https://colab.research.google.com/assets/colab-badge.svg\" alt=\"Open In Colab\"/></a>"
      ]
    },
    {
      "cell_type": "code",
      "metadata": {
        "colab": {
          "base_uri": "https://localhost:8080/"
        },
        "id": "3f1-9XfghB7G",
        "outputId": "849dccf9-b242-421a-a350-ad96916666e1"
      },
      "source": [
        "#Dado o dicionário vazio \"pessoas\", faça o que se pede nos itens a) e b),\n",
        "#conforme a descrição nos comentários do código abaixo:\n",
        "\n",
        "pessoas = {}\n",
        "i = 0\n",
        "while i < 5:    # Lê o nome de 5 pessoas e as linguagens que as pessoas programam\n",
        "\tnome = input('\\nNome da pessoa: ')\n",
        "\tlinguagem = input('Linguagem que programa: ')\n",
        "\tpessoas[nome]= linguagem\n",
        "\ti += 1\n",
        "\t\n",
        "print(\"\\nLista de pessoas:\" ,pessoas)"
      ],
      "execution_count": 53,
      "outputs": [
        {
          "output_type": "stream",
          "text": [
            "\n",
            "Nome da pessoa: Ana\n",
            "Linguagem que programa: Python\n",
            "\n",
            "Nome da pessoa: Bruna\n",
            "Linguagem que programa: PHP\n",
            "\n",
            "Nome da pessoa: Carla\n",
            "Linguagem que programa: Java\n",
            "\n",
            "Nome da pessoa: Beatriz\n",
            "Linguagem que programa: JavaScript\n",
            "\n",
            "Nome da pessoa: Dani\n",
            "Linguagem que programa: C#\n",
            "\n",
            "Lista de pessoas: {'Ana': 'Python', 'Bruna': 'PHP', 'Carla': 'Java', 'Beatriz': 'JavaScript', 'Dani': 'C#'}\n"
          ],
          "name": "stdout"
        }
      ]
    },
    {
      "cell_type": "code",
      "metadata": {
        "colab": {
          "base_uri": "https://localhost:8080/"
        },
        "id": "YGVP1NYDvpBH",
        "outputId": "6aa8a8ba-b1ca-45b6-aae2-b37531052b4b"
      },
      "source": [
        "# item b) Construa abaixo o código para listar os dados cadastrados no dicionário conforme o seguinte exemplo:\n",
        "'''agenda = {'Maria': ['Python'],\n",
        "          'Jose':  ['Ruby'],\n",
        "          'Mauro': ['PHP'],\n",
        "          'Bruna': ['Javascript'],\n",
        "          'Rai':   ['Pascal']}'''\n",
        "for chave in pessoas:\n",
        "  print(chave, 'programa em', pessoas[chave])"
      ],
      "execution_count": 54,
      "outputs": [
        {
          "output_type": "stream",
          "text": [
            "Ana programa em Python\n",
            "Bruna programa em PHP\n",
            "Carla programa em Java\n",
            "Beatriz programa em JavaScript\n",
            "Dani programa em C#\n"
          ],
          "name": "stdout"
        }
      ]
    },
    {
      "cell_type": "code",
      "metadata": {
        "colab": {
          "base_uri": "https://localhost:8080/"
        },
        "id": "6LViFhwgygdL",
        "outputId": "6fe281a4-a774-4e52-cdc2-bff318643c64"
      },
      "source": [
        "try:\n",
        " a = int(input('Informe a: '))\n",
        " b = int(input('Informe b: '))\n",
        " c = a/b\n",
        " print('a/b  é igual a: ', c)\n",
        "except ValueError:\n",
        "  print('Atenção: os valores de a e b devem ser n ́umeros inteiros.')\n",
        "except ZeroDivisionError:\n",
        "  print('Atenção: o valor de b deve ser diferente de zero.')"
      ],
      "execution_count": 33,
      "outputs": [
        {
          "output_type": "stream",
          "text": [
            "Informe a: 4\n",
            "Informe b: 5\n",
            "a/b  é igual a:  0.8\n"
          ],
          "name": "stdout"
        }
      ]
    },
    {
      "cell_type": "code",
      "metadata": {
        "colab": {
          "base_uri": "https://localhost:8080/"
        },
        "id": "UmVBcZm4y56V",
        "outputId": "c478a396-f867-45a9-c6e3-899ca3c0557a"
      },
      "source": [
        "numero = int(input(\"Digite um número: \"))\n",
        "try:\n",
        "  resultado = 30 / numero\n",
        "except ValueError:\n",
        "  print(\"Não foi possível calcular o resultado!\")\n",
        "except ZeroDivisionError:\n",
        "  print('Atenção o valor de B deverá ser diferente de 0')\n",
        "print(resultado)"
      ],
      "execution_count": 92,
      "outputs": [
        {
          "output_type": "stream",
          "text": [
            "Digite um número: 9\n",
            "3.3333333333333335\n"
          ],
          "name": "stdout"
        }
      ]
    },
    {
      "cell_type": "code",
      "metadata": {
        "colab": {
          "base_uri": "https://localhost:8080/",
          "height": 130
        },
        "id": "lbEad1Sp3eqD",
        "outputId": "014f8bf2-f5f0-453a-cf59-39dd959366c8"
      },
      "source": [
        "#Crie um programa que leia o nome de 5 pessoas e os armazena em\n",
        "#uma lista. Em seguida, construa uma fun ̧c ̃ao que recebe como parˆametros essa\n",
        "#lista e uma posi ̧c ̃ao ( ́ındice da lista) e devolve o nome contido naquela posi ̧c ̃ao.\n",
        "#B Essa fun ̧c ̃ao deve gerar uma exce ̧c ̃ao do tipo IndexError caso o  ́ındice n ̃ao exista na lista.\n",
        "\n",
        "pessoas = []\n",
        "i = 0\n",
        "while (i < 5):    # Lê o nome de 5 pessoas e as linguagens que as pessoas programam\n",
        "\tnome = input('\\nNome da pessoa: ')\n",
        "def main(lista):\n",
        "  for i in pessoas:\n",
        "    pessoas.append(0, len(pessoas))\n",
        "    except IndexError:\n",
        "      (\"Este nome nao está incluso na lista\")\n",
        "return lista"
      ],
      "execution_count": 93,
      "outputs": [
        {
          "output_type": "error",
          "ename": "SyntaxError",
          "evalue": "ignored",
          "traceback": [
            "\u001b[0;36m  File \u001b[0;32m\"<ipython-input-93-f7cb79fc68f5>\"\u001b[0;36m, line \u001b[0;32m13\u001b[0m\n\u001b[0;31m    except IndexError:\u001b[0m\n\u001b[0m         ^\u001b[0m\n\u001b[0;31mSyntaxError\u001b[0m\u001b[0;31m:\u001b[0m invalid syntax\n"
          ]
        }
      ]
    },
    {
      "cell_type": "code",
      "metadata": {
        "colab": {
          "base_uri": "https://localhost:8080/"
        },
        "id": "a4EE_1O6Im8i",
        "outputId": "4bdcaeb0-81f0-476c-9a1f-435f665ccd5b"
      },
      "source": [
        "try:\n",
        " a = int(input('Informe a: '))\n",
        " b = int(input('Informe b: '))\n",
        " c = a/b\n",
        " print('a/b  ́e igual a: ', c)\n",
        " if c < 1:\n",
        "  lista = ()\n",
        "  lista.append(a)\n",
        "  lista.append(b)\n",
        "  media = sum(lista)/len(lista)\n",
        "  print('A media de a e b  ́e:', media)\n",
        "except ValueError:\n",
        "  print('Aten ̧c~ao: os valores de a e b devem ser n ́umeros inteiros.')\n",
        "except ZeroDivisionError:\n",
        "  print('Aten ̧c~ao: o valor de b deve ser diferente de zero.')\n",
        "except:\n",
        "  print('Aten ̧c~ao: um erro inesperado aconteceu.')"
      ],
      "execution_count": 37,
      "outputs": [
        {
          "output_type": "stream",
          "text": [
            "Informe a: 4\n",
            "Informe b: 5\n",
            "a/b  ́e igual a:  0.8\n",
            "Aten ̧c~ao: um erro inesperado aconteceu.\n"
          ],
          "name": "stdout"
        }
      ]
    },
    {
      "cell_type": "code",
      "metadata": {
        "colab": {
          "base_uri": "https://localhost:8080/"
        },
        "id": "0Swukm5GJQwk",
        "outputId": "4410cdee-8ded-48e7-b9cc-9461052465a7"
      },
      "source": [
        "try:\n",
        " a = int(input('Informe a: '))\n",
        " b = int(input('Informe b: '))\n",
        " c = a/b\n",
        "except ValueError:\n",
        "  print('Atenção: os valores de a e b devem ser n ́umeros inteiros.')\n",
        "except ZeroDivisionError:\n",
        "  print('Atenção: o valor de b deve ser diferente de zero.')\n",
        "except:\n",
        "  print('Atenção: um erro inesperado aconteceu.')\n",
        "else:\n",
        "  print('A dividido por B é igual a: ', c) # exibimos o resultado somente quando o programa n~ao apresentar erros."
      ],
      "execution_count": 41,
      "outputs": [
        {
          "output_type": "stream",
          "text": [
            "Informe a: 0\n",
            "Informe b: 5\n",
            "A dividido por B é igual a:  0.0\n"
          ],
          "name": "stdout"
        }
      ]
    },
    {
      "cell_type": "code",
      "metadata": {
        "colab": {
          "base_uri": "https://localhost:8080/"
        },
        "id": "0c2MDntzNNHu",
        "outputId": "26906f2a-6602-49ce-f02f-31f6789d45fe"
      },
      "source": [
        "#Identifique as partes problemáticas no código a seguir e reescreva-o tratando as possíveis exceções.\n",
        "\n",
        "x = int(input('Primeiro valor:'))\n",
        "y = int(input('Segundo valor:'))\n",
        "try:\n",
        "  z = x/y\n",
        "except ValueError:\n",
        "  print(\"Não foi possível calcular o resultado!\")\n",
        "except ZeroDivisionError:\n",
        "  print('Atenção o valor de Y deverá ser diferente de 0')\n",
        "finally:\n",
        "  print('O resultado da divisão é:', z)\n",
        "\n"
      ],
      "execution_count": 48,
      "outputs": [
        {
          "output_type": "stream",
          "text": [
            "Primeiro valor:8\n",
            "Segundo valor:0\n",
            "Atenção o valor de B deverá ser diferente de 0\n",
            "O resultado da divisão é: 2.0\n"
          ],
          "name": "stdout"
        }
      ]
    },
    {
      "cell_type": "code",
      "metadata": {
        "colab": {
          "base_uri": "https://localhost:8080/",
          "height": 130
        },
        "id": "61N4ucKsO3QW",
        "outputId": "0599901e-1956-423c-b1af-ca3596dea0f0"
      },
      "source": [
        "#Questão 3: O código abaixo lança uma exceção e interrompe a execução do programa. \n",
        "#Utilizando tratamento de exceções, corrija-o com o objetivo de alertar\n",
        "#o usuário sobre o erro ocorrido e impedir que o programa seja interrompido bruscamente.\n",
        "try:\n",
        "  def funcao_1():\n",
        "    print('Início da função')\n",
        "    lista = [1, 2, 3, 4, 5, 6, 7, 8, 9, 10]\n",
        "    for i in range(15):\n",
        "      print(lista[i])\n",
        "      except IndexError:\n",
        "        print('Índice inexistente em listas ou tuplas')\n",
        "  print('Fim da função')\n",
        "\n",
        "print('Início do programa')\n",
        "funcao_1()\n",
        "print('Fim do programa')"
      ],
      "execution_count": 71,
      "outputs": [
        {
          "output_type": "error",
          "ename": "SyntaxError",
          "evalue": "ignored",
          "traceback": [
            "\u001b[0;36m  File \u001b[0;32m\"<ipython-input-71-015d3092042c>\"\u001b[0;36m, line \u001b[0;32m10\u001b[0m\n\u001b[0;31m    except IndexError:\u001b[0m\n\u001b[0m         ^\u001b[0m\n\u001b[0;31mSyntaxError\u001b[0m\u001b[0;31m:\u001b[0m invalid syntax\n"
          ]
        }
      ]
    },
    {
      "cell_type": "code",
      "metadata": {
        "id": "GwPQ5wFrThMq"
      },
      "source": [
        "try:\n",
        "  x = int(input(\"Digite o primeiro número: \"))\n",
        "  y = int(input(\"Digite o segundo número: \"))\n",
        "  def div(x, y):\n",
        "      if x % y == 0:\n",
        "        return True\n",
        "      else:\n",
        "        return False\n",
        "except SyntaxError:\n",
        "  print('código errado')\n",
        "\n",
        "\n"
      ],
      "execution_count": null,
      "outputs": []
    }
  ]
}