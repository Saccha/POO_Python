{
  "nbformat": 4,
  "nbformat_minor": 0,
  "metadata": {
    "colab": {
      "name": "Untitled12.ipynb",
      "provenance": [],
      "authorship_tag": "ABX9TyM5GM0aw0P2gByITG/o0Xup",
      "include_colab_link": true
    },
    "kernelspec": {
      "name": "python3",
      "display_name": "Python 3"
    }
  },
  "cells": [
    {
      "cell_type": "markdown",
      "metadata": {
        "id": "view-in-github",
        "colab_type": "text"
      },
      "source": [
        "<a href=\"https://colab.research.google.com/github/Saccha/POO_Python/blob/main/namedtuple.ipynb\" target=\"_parent\"><img src=\"https://colab.research.google.com/assets/colab-badge.svg\" alt=\"Open In Colab\"/></a>"
      ]
    },
    {
      "cell_type": "code",
      "metadata": {
        "colab": {
          "base_uri": "https://localhost:8080/"
        },
        "id": "Y1WvKkA6Ezj6",
        "outputId": "49cc15ad-bf3c-4e69-eb9d-36ca96da6fb1"
      },
      "source": [
        "'''\r\n",
        "Módulo Collections - Named Tuple\r\n",
        "'''\r\n",
        "'''\r\n",
        "#recap tupla\r\n",
        "tupla = (1,2,3)\r\n",
        "print(tupla[1])\r\n",
        "'''\r\n",
        "'''\r\n",
        "Named Tuple -> São Tuplas, diferenciadas, onde especificamos um nome para a mesma e também parâmetros\r\n",
        "'''\r\n",
        "\r\n",
        "#Importando\r\n",
        "\r\n",
        "from collections import namedtuple\r\n",
        "#Precisamos definir o nome e parâmetros\r\n",
        "#Forma 1 - Declaração Named Tuple \r\n",
        "cachorro = namedtuple('cachorro', 'idade raca nome')\r\n",
        "\r\n",
        "#Forma 2 - Declaração de Named Tuple \r\n",
        "cachorro = namedtuple('cachorro', 'idade, raca, nome')\r\n",
        "\r\n",
        "#Forma 3 - Declaração de Named Tuple \r\n",
        "cachorro = namedtuple('cachorro', ['idade', 'raca', 'nome'])\r\n",
        "\r\n",
        "#Usando\r\n",
        "ray = cachorro(idade=2,raca='Chow-Chow',nome='Ray')\r\n",
        "print(ray)\r\n",
        "\r\n",
        "\r\n",
        "#Acessando Dados\r\n",
        "#Forma 1\r\n",
        "print(ray[0]) #idade\r\n",
        "print(ray[1]) #raça\r\n",
        "print(ray[2]) #nome\r\n",
        "\r\n",
        "#Forma 2\r\n",
        "\r\n",
        "print(ray.idade)\r\n",
        "print(ray.raca)\r\n",
        "print(ray.nome)\r\n",
        "\r\n",
        "print(ray.index('Chow-Chow'))\r\n",
        "print(ray.count('Chow-Chow'))\r\n",
        "\r\n"
      ],
      "execution_count": 6,
      "outputs": [
        {
          "output_type": "stream",
          "text": [
            "cachorro(idade=2, raca='Chow-Chow', nome='Ray')\n",
            "2\n",
            "Chow-Chow\n",
            "Ray\n",
            "2\n",
            "Chow-Chow\n",
            "Ray\n",
            "1\n",
            "1\n"
          ],
          "name": "stdout"
        }
      ]
    }
  ]
}