{
  "nbformat": 4,
  "nbformat_minor": 0,
  "metadata": {
    "colab": {
      "name": "Untitled11.ipynb",
      "provenance": [],
      "authorship_tag": "ABX9TyOAsx8Qb44zl/jFpRekwnDo",
      "include_colab_link": true
    },
    "kernelspec": {
      "name": "python3",
      "display_name": "Python 3"
    }
  },
  "cells": [
    {
      "cell_type": "markdown",
      "metadata": {
        "id": "view-in-github",
        "colab_type": "text"
      },
      "source": [
        "<a href=\"https://colab.research.google.com/github/Saccha/POO_Python/blob/main/OrderedDict.ipynb\" target=\"_parent\"><img src=\"https://colab.research.google.com/assets/colab-badge.svg\" alt=\"Open In Colab\"/></a>"
      ]
    },
    {
      "cell_type": "code",
      "metadata": {
        "colab": {
          "base_uri": "https://localhost:8080/"
        },
        "id": "kvJB9eAX-U84",
        "outputId": "a96c9fc8-55f1-40a0-f997-25a20ded3d44"
      },
      "source": [
        "'''\r\n",
        "Módulo Collections: Ordered Dict\r\n",
        "\r\n",
        "OrderedDict -> É um dicionário, que nos garante a ordem de inserção dos elementos\r\n",
        "'''\r\n",
        "'''\r\n",
        "#Em um dicionário, a ordem de inserção dos elementos não é garantida\r\n",
        "dicionario = {'a': 1, 'b': 2,'c': 3,'d': 4,'e': 5}\r\n",
        "for chave, valor in dicionario.items():\r\n",
        "  print(f'chave={chave}:valor={valor}')\r\n",
        "'''\r\n",
        "'''\r\n",
        "#Fazendo o import\r\n",
        "from collections import OrderedDict\r\n",
        "dicionario = OrderedDict({'a': 1, 'b': 2,'c': 3,'d': 4,'e': 5})\r\n",
        "for chave, valor in dicionario.items():\r\n",
        "  print(f'chave={chave}:valor={valor}')\r\n",
        "'''\r\n",
        "\r\n",
        "#Entendendo a diferença entre Dict e Ordered Dict\r\n",
        "#Diconários comuns\r\n",
        "\r\n",
        "dict1 = {'a': 1,'b': 2}\r\n",
        "dict2 = {'b': 2,'a': 1}\r\n",
        "print(dict1 == dict2) #True/False ??? -> TRUE -> Já que a ordem dos elementos não importa para o dicionário\r\n",
        "\r\n",
        "#Ordered Dict\r\n",
        "odict1 = OrderedDict({'a': 1,'b': 2})\r\n",
        "odict2 = OrderedDict({'b': 2,'a': 1})\r\n",
        "print(odict1 == odict2) #True/False ??? -> FALSE -> Jão que a ordem dos elementos importa para o Ordered Dict\r\n"
      ],
      "execution_count": 6,
      "outputs": [
        {
          "output_type": "stream",
          "text": [
            "True\n",
            "False\n"
          ],
          "name": "stdout"
        }
      ]
    }
  ]
}