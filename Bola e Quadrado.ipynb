{
  "nbformat": 4,
  "nbformat_minor": 0,
  "metadata": {
    "colab": {
      "name": "Untitled5.ipynb",
      "provenance": [],
      "collapsed_sections": [],
      "authorship_tag": "ABX9TyMFSaw0e3ruZbKneiysnWaa",
      "include_colab_link": true
    },
    "kernelspec": {
      "name": "python3",
      "display_name": "Python 3"
    }
  },
  "cells": [
    {
      "cell_type": "markdown",
      "metadata": {
        "id": "view-in-github",
        "colab_type": "text"
      },
      "source": [
        "<a href=\"https://colab.research.google.com/github/Saccha/POO_Python/blob/main/Bola%20e%20Quadrado.ipynb\" target=\"_parent\"><img src=\"https://colab.research.google.com/assets/colab-badge.svg\" alt=\"Open In Colab\"/></a>"
      ]
    },
    {
      "cell_type": "code",
      "metadata": {
        "colab": {
          "base_uri": "https://localhost:8080/"
        },
        "id": "aKu0XV_4Clhq",
        "outputId": "d986daac-3288-4cd7-c500-9c99ff8506c1"
      },
      "source": [
        "#1. Classe Bola: Crie uma classe que modele uma bola:\r\n",
        "#a. Atributos: Cor, circunferência, material\r\n",
        "#b. Métodos: trocaCor e mostraCor\r\n",
        "\r\n",
        "class Bola():\r\n",
        "  def __init__(self, cor, circuferencia, material):\r\n",
        "    self.cor = cor\r\n",
        "    self.circuferencia = circuferencia\r\n",
        "    self.material = material\r\n",
        "  def trocaCor(self, cor):\r\n",
        "    self.cor = cor\r\n",
        "  def mostraCor(self):\r\n",
        "    return self.cor\r\n",
        "\r\n",
        "b = Bola(\"azul\", 10,\"couro\")\r\n",
        "print(b.mostraCor())\r\n",
        "b.trocaCor(\"vermelha\")\r\n",
        "print(b.mostraCor())"
      ],
      "execution_count": null,
      "outputs": [
        {
          "output_type": "stream",
          "text": [
            "azul\n",
            "vermelha\n"
          ],
          "name": "stdout"
        }
      ]
    },
    {
      "cell_type": "code",
      "metadata": {
        "colab": {
          "base_uri": "https://localhost:8080/"
        },
        "id": "GYPGwaIEKvnz",
        "outputId": "329082e6-e4fa-4ae1-c8ef-03d4f363600c"
      },
      "source": [
        "#2. Classe Quadrado: Crie uma classe que modele um quadrado:\r\n",
        "#a. Atributos: Tamanho do lado\r\n",
        "#b. Métodos: Mudar valor do Lado, Retornar valor do Lado e calcular Área\r\n",
        "\r\n",
        "class Quadrado():\r\n",
        " def __init__(self, lado):\r\n",
        "  self.setLado(lado)\r\n",
        " def setLado(self, lado):\r\n",
        "  self.lado = lado\r\n",
        " def getLado(self):\r\n",
        "  return self.lado\r\n",
        " def area(self):\r\n",
        "  return self.lado * self.lado\r\n",
        "q = Quadrado(5)\r\n",
        "print(q.area())"
      ],
      "execution_count": null,
      "outputs": [
        {
          "output_type": "stream",
          "text": [
            "25\n"
          ],
          "name": "stdout"
        }
      ]
    }
  ]
}